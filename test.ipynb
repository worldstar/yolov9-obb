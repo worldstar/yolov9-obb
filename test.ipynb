{
 "cells": [
  {
   "cell_type": "code",
   "execution_count": 92,
   "metadata": {},
   "outputs": [],
   "source": [
    "import numpy as np"
   ]
  },
  {
   "cell_type": "code",
   "execution_count": 148,
   "metadata": {},
   "outputs": [
    {
     "name": "stdout",
     "output_type": "stream",
     "text": [
      "Image 0 has 1 labels: [[ 1.00000000e+00  2.54276046e+02  8.16574239e+02  1.06592507e+02\n",
      "   1.41107777e+02 -3.08615911e-01]]\n"
     ]
    }
   ],
   "source": [
    "# Constants\n",
    "num_images = 1  # Total number of images\n",
    "max_objects_per_image = 3  # Maximum number of objects per image\n",
    "\n",
    "# Randomly generate the number of objects in each image\n",
    "num_objects = np.random.randint(0, max_objects_per_image + 1, size=num_images)\n",
    "\n",
    "# Synthetic data for each object in each image\n",
    "targets = []\n",
    "for img_index in range(num_images):\n",
    "    for obj_index in range(num_objects[img_index]):\n",
    "        clsid = np.random.randint(0, 3)  # Assume 3 classes, labeled as 0, 1, 2\n",
    "        cx = np.random.uniform(0, 1000)  # Assume image width up to 1000 pixels\n",
    "        cy = np.random.uniform(0, 1000)  # Assume image height up to 1000 pixels\n",
    "        l = np.random.uniform(20, 200)  # Length between 20 and 200 pixels\n",
    "        s = np.random.uniform(20, 200)  # Width between 20 and 200 pixels\n",
    "        theta = np.random.uniform(-np.pi/2, np.pi/2)  # Rotation in radians\n",
    "        targets.append([img_index, clsid, cx, cy, l, s, theta])\n",
    "\n",
    "# Convert to a NumPy array for better handling\n",
    "targets = np.array(targets)\n",
    "\n",
    "# Example use in a loop, similar to your setup\n",
    "for si in range(num_images):\n",
    "    labels = targets[targets[:, 0] == si, 1:7]  # Filter labels for the current image\n",
    "    nl = labels.shape[0]  # Number of labels\n",
    "    print(f\"Image {si} has {nl} labels: {labels}\")\n"
   ]
  },
  {
   "cell_type": "code",
   "execution_count": 162,
   "metadata": {},
   "outputs": [
    {
     "name": "stdout",
     "output_type": "stream",
     "text": [
      "[[ 7.07165595e+02  7.13418651e+02  3.12454991e+00  9.96384576e+01\n",
      "  -8.62434586e-01  1.25778927e-01  0.00000000e+00]]\n"
     ]
    }
   ],
   "source": [
    "import numpy as np\n",
    "\n",
    "# Random example with multiple predictions\n",
    "num_pred = 1  # Number of predictions\n",
    "pred = np.random.rand(num_pred, 7)  # Random values for example\n",
    "pred[:, :2] *= 1000  # Scale center coordinates assuming image size of 1000x1000\n",
    "pred[:, 2:4] *= 200  # Random dimensions between 0 and 200\n",
    "pred[:, 4] = pred[:, 4] * np.pi - np.pi/2  # Orientation between -π/2 and π/2\n",
    "pred[:, 5] = pred[:, 5]  # Confidence scores, already between 0 and 1\n",
    "pred[:, 6] = np.random.randint(0, 3, size=num_pred)  # Class IDs for 3 classes\n",
    "\n",
    "print(pred)\n"
   ]
  },
  {
   "cell_type": "code",
   "execution_count": 51,
   "metadata": {},
   "outputs": [],
   "source": [
    "import torch\n",
    " \n",
    "a = torch.randn(1, 8)\n",
    "b = a.numel()\n",
    "print(a)\n",
    "print(type(b)) # int\n",
    "print(b) # 24"
   ]
  },
  {
   "cell_type": "code",
   "execution_count": 152,
   "metadata": {},
   "outputs": [
    {
     "data": {
      "text/plain": [
       "array([[ 0.00000000e+00,  1.00000000e+00,  2.54276046e+02,\n",
       "         8.16574239e+02,  1.06592507e+02,  1.41107777e+02,\n",
       "        -3.08615911e-01]])"
      ]
     },
     "execution_count": 152,
     "metadata": {},
     "output_type": "execute_result"
    }
   ],
   "source": [
    "targets[:1:6]"
   ]
  },
  {
   "cell_type": "code",
   "execution_count": 153,
   "metadata": {},
   "outputs": [
    {
     "data": {
      "text/plain": [
       "1"
      ]
     },
     "execution_count": 153,
     "metadata": {},
     "output_type": "execute_result"
    }
   ],
   "source": [
    "len(targets)"
   ]
  },
  {
   "cell_type": "code",
   "execution_count": 155,
   "metadata": {},
   "outputs": [
    {
     "data": {
      "text/plain": [
       "array([[ 213.78289821, -369.35026862,   34.27292428,  427.24853747,\n",
       "        -213.78289821,  371.35026862,  -34.27292428, -425.24853747]])"
      ]
     },
     "execution_count": 155,
     "metadata": {},
     "output_type": "execute_result"
    }
   ],
   "source": [
    "def rbox2poly(obboxes):\n",
    "    \"\"\"\n",
    "    Trans rbox format to poly format.\n",
    "    Args:\n",
    "        rboxes (array/tensor): (num_gts, [cx cy l s θ]) θ∈[-pi/2, pi/2)\n",
    "\n",
    "    Returns:\n",
    "        polys (array/tensor): (num_gts, [x1 y1 x2 y2 x3 y3 x4 y4]) \n",
    "    \"\"\"\n",
    "    if isinstance(obboxes, torch.Tensor):\n",
    "        center, w, h, theta = obboxes[:, :2], obboxes[:, 2:3], obboxes[:, 3:4], obboxes[:, 4:5]\n",
    "        Cos, Sin = torch.cos(theta), torch.sin(theta)\n",
    "\n",
    "        vector1 = torch.cat(\n",
    "            (w/2 * Cos, -w/2 * Sin), dim=-1)\n",
    "        vector2 = torch.cat(\n",
    "            (-h/2 * Sin, -h/2 * Cos), dim=-1)\n",
    "        point1 = center + vector1 + vector2\n",
    "        point2 = center + vector1 - vector2\n",
    "        point3 = center - vector1 - vector2\n",
    "        point4 = center - vector1 + vector2\n",
    "        order = obboxes.shape[:-1]\n",
    "        return torch.cat(\n",
    "            (point1, point2, point3, point4), dim=-1).reshape(*order, 8)\n",
    "    else:\n",
    "        center, w, h, theta = np.split(obboxes, (2, 3, 4), axis=-1)\n",
    "        Cos, Sin = np.cos(theta), np.sin(theta)\n",
    "\n",
    "        vector1 = np.concatenate(\n",
    "            [w/2 * Cos, -w/2 * Sin], axis=-1)\n",
    "        vector2 = np.concatenate(\n",
    "            [-h/2 * Sin, -h/2 * Cos], axis=-1)\n",
    "\n",
    "        point1 = center + vector1 + vector2\n",
    "        point2 = center + vector1 - vector2\n",
    "        point3 = center - vector1 - vector2\n",
    "        point4 = center - vector1 + vector2\n",
    "        order = obboxes.shape[:-1]\n",
    "        return np.concatenate(\n",
    "            [point1, point2, point3, point4], axis=-1).reshape(*order, 8)\n",
    "\n",
    "poly = rbox2poly(targets[:, :5])\n",
    "poly"
   ]
  },
  {
   "cell_type": "code",
   "execution_count": 166,
   "metadata": {},
   "outputs": [
    {
     "data": {
      "text/plain": [
       "tensor([[ 2.1378e+02, -3.6935e+02,  3.4273e+01,  4.2725e+02, -2.1378e+02,\n",
       "          3.7135e+02, -3.4273e+01, -4.2525e+02,  7.0717e+02,  7.1342e+02,\n",
       "          3.1245e+00,  9.9638e+01, -8.6243e-01,  1.2578e-01,  0.0000e+00]],\n",
       "       dtype=torch.float64)"
      ]
     },
     "execution_count": 166,
     "metadata": {},
     "output_type": "execute_result"
    }
   ],
   "source": [
    "poly_tensor = torch.from_numpy(poly)\n",
    "targets_tensor = torch.from_numpy(pred)\n",
    "\n",
    "#pred_poly = torch.cat((poly, targets[-2:]), dim=1) # (n, [poly, conf, cls])\n",
    "# (x1, y1, x2, y2, x3, y3, x4, y4, cx, cy, w, h, θ, conf, cls)\n",
    "pred_poly = torch.cat((poly_tensor, targets_tensor), dim=1) # (n, [poly, conf, cls])\n",
    "pred_poly\n"
   ]
  },
  {
   "cell_type": "code",
   "execution_count": 167,
   "metadata": {},
   "outputs": [
    {
     "data": {
      "text/plain": [
       "tensor([[-213.7829, -425.2485,  213.7829,  427.2485]], dtype=torch.float64)"
      ]
     },
     "execution_count": 167,
     "metadata": {},
     "output_type": "execute_result"
    }
   ],
   "source": [
    "def poly2hbb(polys):\n",
    "    import numpy as np\n",
    "    \"\"\"\n",
    "    Trans poly format to hbb format\n",
    "    Args:\n",
    "        rboxes (array/tensor): (num_gts, poly) \n",
    "\n",
    "    Returns:\n",
    "        hbboxes (array/tensor): (num_gts, [xc yc w h]) \n",
    "    \"\"\"\n",
    "    assert polys.shape[-1] == 8\n",
    "    if isinstance(polys, torch.Tensor):\n",
    "        x = polys[:, 0::2] # (num, 4) \n",
    "        y = polys[:, 1::2]\n",
    "        x_max = torch.amax(x, dim=1) # (num)\n",
    "        x_min = torch.amin(x, dim=1)\n",
    "        y_max = torch.amax(y, dim=1)\n",
    "        y_min = torch.amin(y, dim=1)\n",
    "        x_ctr, y_ctr = (x_max + x_min) / 2.0, (y_max + y_min) / 2.0 # (num)\n",
    "        h = y_max - y_min # (num)\n",
    "        w = x_max - x_min\n",
    "        x_ctr, y_ctr, w, h = x_ctr.reshape(-1, 1), y_ctr.reshape(-1, 1), w.reshape(-1, 1), h.reshape(-1, 1) # (num, 1)\n",
    "        hbboxes = torch.cat((x_ctr, y_ctr, w, h), dim=1)\n",
    "    else:\n",
    "        x = polys[:, 0::2] # (num, 4) \n",
    "        y = polys[:, 1::2]\n",
    "        x_max = np.amax(x, axis=1) # (num)\n",
    "        x_min = np.amin(x, axis=1) \n",
    "        y_max = np.amax(y, axis=1)\n",
    "        y_min = np.amin(y, axis=1)\n",
    "        x_ctr, y_ctr = (x_max + x_min) / 2.0, (y_max + y_min) / 2.0 # (num)\n",
    "        h = y_max - y_min # (num)\n",
    "        w = x_max - x_min\n",
    "        x_ctr, y_ctr, w, h = x_ctr.reshape(-1, 1), y_ctr.reshape(-1, 1), w.reshape(-1, 1), h.reshape(-1, 1) # (num, 1)\n",
    "        hbboxes = np.concatenate((x_ctr, y_ctr, w, h), axis=1)\n",
    "    return hbboxes\n",
    "\n",
    "def xywh2xyxy(x):\n",
    "    # Convert nx4 boxes from [x, y, w, h] to [x1, y1, x2, y2] where xy1=top-left, xy2=bottom-right\n",
    "    y = x.clone() if isinstance(x, torch.Tensor) else np.copy(x)\n",
    "    y[..., 0] = x[..., 0] - x[..., 2] / 2  # top left x\n",
    "    y[..., 1] = x[..., 1] - x[..., 3] / 2  # top left y\n",
    "    y[..., 2] = x[..., 0] + x[..., 2] / 2  # bottom right x\n",
    "    y[..., 3] = x[..., 1] + x[..., 3] / 2  # bottom right y\n",
    "    return y\n",
    "\n",
    "hbbox = xywh2xyxy(poly2hbb(pred_poly[:, :8]))\n",
    "hbbox"
   ]
  },
  {
   "cell_type": "code",
   "execution_count": 168,
   "metadata": {},
   "outputs": [
    {
     "data": {
      "text/plain": [
       "tensor([[-2.1378e+02, -4.2525e+02,  2.1378e+02,  4.2725e+02,  1.2578e-01,\n",
       "          0.0000e+00]], dtype=torch.float64)"
      ]
     },
     "execution_count": 168,
     "metadata": {},
     "output_type": "execute_result"
    }
   ],
   "source": [
    "pred_hbb = torch.cat((hbbox, pred_poly[:, -2:]), dim=1)\n",
    "# [x1, y1, x2, y2, confidence, class]\n",
    "pred_hbb"
   ]
  },
  {
   "cell_type": "code",
   "execution_count": 169,
   "metadata": {},
   "outputs": [
    {
     "name": "stdout",
     "output_type": "stream",
     "text": [
      "tensor([[-213.7829, -425.2485,  213.7829,  427.2485]], dtype=torch.float64)\n",
      "tensor([[-2.1378e+02, -4.2525e+02,  2.1378e+02,  4.2725e+02,  1.2578e-01,\n",
      "          0.0000e+00]], dtype=torch.float64)\n"
     ]
    }
   ],
   "source": [
    "pred_polyn = pred_poly.clone() # predn (tensor): (n, [poly, conf, cls])\n",
    "hbboxn = xywh2xyxy(poly2hbb(pred_polyn[:, :8])) # (n, [x1 y1 x2 y2])\n",
    "print(hbboxn)\n",
    "pred_hbbn = torch.cat((hbboxn, pred_polyn[:, -2:]), dim=1)\n",
    "print(pred_hbbn)"
   ]
  },
  {
   "cell_type": "code",
   "execution_count": 171,
   "metadata": {},
   "outputs": [
    {
     "data": {
      "text/plain": [
       "array([[-407.0548478 ,  199.22966572, -379.25125474,   96.32717427,\n",
       "         409.0548478 ,  309.32242612,  381.25125474,  412.22491757]])"
      ]
     },
     "execution_count": 171,
     "metadata": {},
     "output_type": "execute_result"
    }
   ],
   "source": [
    "def rbox2poly(obboxes):\n",
    "    \"\"\"\n",
    "    Trans rbox format to poly format.\n",
    "    Args:\n",
    "        rboxes (array/tensor): (num_gts, [cx cy l s θ]) θ∈[-pi/2, pi/2)\n",
    "\n",
    "    Returns:\n",
    "        polys (array/tensor): (num_gts, [x1 y1 x2 y2 x3 y3 x4 y4]) \n",
    "    \"\"\"\n",
    "    if isinstance(obboxes, torch.Tensor):\n",
    "        center, w, h, theta = obboxes[:, :2], obboxes[:, 2:3], obboxes[:, 3:4], obboxes[:, 4:5]\n",
    "        Cos, Sin = torch.cos(theta), torch.sin(theta)\n",
    "\n",
    "        vector1 = torch.cat(\n",
    "            (w/2 * Cos, -w/2 * Sin), dim=-1)\n",
    "        vector2 = torch.cat(\n",
    "            (-h/2 * Sin, -h/2 * Cos), dim=-1)\n",
    "        point1 = center + vector1 + vector2\n",
    "        point2 = center + vector1 - vector2\n",
    "        point3 = center - vector1 - vector2\n",
    "        point4 = center - vector1 + vector2\n",
    "        order = obboxes.shape[:-1]\n",
    "        return torch.cat(\n",
    "            (point1, point2, point3, point4), dim=-1).reshape(*order, 8)\n",
    "    else:\n",
    "        center, w, h, theta = np.split(obboxes, (2, 3, 4), axis=-1)\n",
    "        Cos, Sin = np.cos(theta), np.sin(theta)\n",
    "\n",
    "        vector1 = np.concatenate(\n",
    "            [w/2 * Cos, -w/2 * Sin], axis=-1)\n",
    "        vector2 = np.concatenate(\n",
    "            [-h/2 * Sin, -h/2 * Cos], axis=-1)\n",
    "\n",
    "        point1 = center + vector1 + vector2\n",
    "        point2 = center + vector1 - vector2\n",
    "        point3 = center - vector1 - vector2\n",
    "        point4 = center - vector1 + vector2\n",
    "        order = obboxes.shape[:-1]\n",
    "        return np.concatenate(\n",
    "            [point1, point2, point3, point4], axis=-1).reshape(*order, 8)\n",
    "\n",
    "tpoly = rbox2poly(targets[:, 1:6]) \n",
    "tpoly"
   ]
  },
  {
   "cell_type": "code",
   "execution_count": 172,
   "metadata": {},
   "outputs": [
    {
     "data": {
      "text/plain": [
       "array([[-407.0548478 ,   96.32717427,  409.0548478 ,  412.22491757]])"
      ]
     },
     "execution_count": 172,
     "metadata": {},
     "output_type": "execute_result"
    }
   ],
   "source": [
    "tbox = xywh2xyxy(poly2hbb(tpoly))\n",
    "tbox"
   ]
  }
 ],
 "metadata": {
  "kernelspec": {
   "display_name": "Python 3",
   "language": "python",
   "name": "python3"
  },
  "language_info": {
   "codemirror_mode": {
    "name": "ipython",
    "version": 3
   },
   "file_extension": ".py",
   "mimetype": "text/x-python",
   "name": "python",
   "nbconvert_exporter": "python",
   "pygments_lexer": "ipython3",
   "version": "3.12.2"
  }
 },
 "nbformat": 4,
 "nbformat_minor": 2
}
